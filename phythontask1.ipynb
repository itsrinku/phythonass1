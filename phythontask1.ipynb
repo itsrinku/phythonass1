{
 "cells": [
  {
   "cell_type": "code",
   "execution_count": 1,
   "id": "7ddf0966-677a-421f-9c49-5d9c9b4ebbfb",
   "metadata": {},
   "outputs": [],
   "source": [
    "#ans 1\n"
   ]
  },
  {
   "cell_type": "code",
   "execution_count": 93,
   "id": "7a0bcda0-694c-46d8-b3dc-ec8189df6517",
   "metadata": {},
   "outputs": [],
   "source": [
    "def product_no_in_list(l):\n",
    "    product=1\n",
    "    for i in l:\n",
    "        if type(i)==int:\n",
    "            product=i*product\n",
    "        \n",
    "        if  type(i)==list or type(i)==set or type(i)==tuple:\n",
    "            for j in i:\n",
    "                if type(j)==int:\n",
    "                    product=j*product\n",
    "    f = extract_product_numeric_keysandvalue_from_dic_in_list(l) \n",
    "    product*=f\n",
    "    return product            \n",
    "    "
   ]
  },
  {
   "cell_type": "code",
   "execution_count": 94,
   "id": "e162e6b0-8b6c-433b-95c1-ee10507f5db5",
   "metadata": {},
   "outputs": [],
   "source": [
    "list1 = [1,2,3,4, [44,55,66, True], False, (34,56,78,89,34), {1,2,3,3,2,1}, {1:34, \"key2\": [55, 67, 78, 89],4: (45,\n",
    "22, 61, 34)}, [56, 'data science'], 'Machine Learning']"
   ]
  },
  {
   "cell_type": "code",
   "execution_count": 95,
   "id": "d6504d40-7baa-4667-a5a5-408476239526",
   "metadata": {},
   "outputs": [],
   "source": [
    "def extract_product_numeric_keysandvalue_from_dic_in_list(l):\n",
    "    x=1\n",
    "    for i in l:\n",
    "        if type(i)==dict:\n",
    "            for j in i:\n",
    "                if type(j)==int:\n",
    "                    x=j*x\n",
    "                if  type(j)==list or type(j)==tuple or type(j)==set:\n",
    "                    x=j*x\n",
    "                if type(i[j])==int:\n",
    "                    x*=i[j]\n",
    "                if type(i[j])==list or type(i[j])== tuple or type(i[j])==set:\n",
    "                    for m in i[j]:\n",
    "                        if type(m)==int:\n",
    "                            x*=m     \n",
    "    return x                \n",
    "    "
   ]
  },
  {
   "cell_type": "code",
   "execution_count": 96,
   "id": "be3022e8-2ee8-49a3-8384-1ffc9ebea271",
   "metadata": {},
   "outputs": [
    {
     "data": {
      "text/plain": [
       "4134711838987085478833841242112000"
      ]
     },
     "execution_count": 96,
     "metadata": {},
     "output_type": "execute_result"
    }
   ],
   "source": [
    " product_no_in_list(list1)"
   ]
  },
  {
   "cell_type": "code",
   "execution_count": 97,
   "id": "930cb1f4-5bb1-4407-b818-f643066f12d8",
   "metadata": {},
   "outputs": [],
   "source": [
    "# ans 2\n",
    "            "
   ]
  },
  {
   "cell_type": "code",
   "execution_count": 9,
   "id": "32b8603e-bdf3-4379-8619-1f9d0ddf4db5",
   "metadata": {},
   "outputs": [
    {
     "name": "stdout",
     "output_type": "stream",
     "text": [
      "i$want$to$become$a$data$scientist\n"
     ]
    }
   ],
   "source": [
    "d={'a':'z','b':'y','c':'x',' ':'$'}\n",
    "i=\"I want to become a Data Scientist\"\n",
    "n=i.lower()\n",
    "for j in d:\n",
    "     x=n.replace(j,d[j])\n",
    "print()\n",
    "           \n",
    "    "
   ]
  },
  {
   "cell_type": "code",
   "execution_count": 8,
   "id": "e0757f14-bab7-493a-8dad-fa5cf410f909",
   "metadata": {},
   "outputs": [
    {
     "data": {
      "text/plain": [
       "'i want to become a data scientist'"
      ]
     },
     "execution_count": 8,
     "metadata": {},
     "output_type": "execute_result"
    }
   ],
   "source": [
    "n"
   ]
  },
  {
   "cell_type": "code",
   "execution_count": null,
   "id": "d1a36ad0-2df7-4906-8cf5-fcdfa4efbdd7",
   "metadata": {},
   "outputs": [],
   "source": []
  }
 ],
 "metadata": {
  "kernelspec": {
   "display_name": "Python 3 (ipykernel)",
   "language": "python",
   "name": "python3"
  },
  "language_info": {
   "codemirror_mode": {
    "name": "ipython",
    "version": 3
   },
   "file_extension": ".py",
   "mimetype": "text/x-python",
   "name": "python",
   "nbconvert_exporter": "python",
   "pygments_lexer": "ipython3",
   "version": "3.10.6"
  }
 },
 "nbformat": 4,
 "nbformat_minor": 5
}
